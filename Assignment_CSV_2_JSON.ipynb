{
 "cells": [
  {
   "cell_type": "code",
   "execution_count": 39,
   "id": "hawaiian-evaluation",
   "metadata": {},
   "outputs": [],
   "source": [
    "import pandas as pd\n",
    "import numpy as np\n",
    "import json"
   ]
  },
  {
   "cell_type": "code",
   "execution_count": 40,
   "id": "variable-recall",
   "metadata": {},
   "outputs": [],
   "source": [
    "#df1 is the dataframe of customer_data_one.csv and df2 is the dataframe of the customer_data_two.csv\n",
    "\n",
    "df1 = pd.read_csv(\"customer_data_one.csv\")\n",
    "df2 = pd.read_csv(\"customer_data_two.csv\")"
   ]
  },
  {
   "cell_type": "code",
   "execution_count": 41,
   "id": "fiscal-force",
   "metadata": {},
   "outputs": [],
   "source": [
    "#df5 is the data frame in which outdated values of customer is removed\n",
    "#append is first used to club the two data frames(ie two csv file's records)\n",
    "#drop_duplicates is used to remove the outdated rows or records\n",
    "#sort_values is used to sort the data frame based in the first name\n",
    "\n",
    "\n",
    "df5 = df1.append(df2, ignore_index = True).drop_duplicates(subset = \"mobile_number\", keep = \"last\", inplace = False)\n",
    "df5 = df5.sort_values(by=['first_name'])\n"
   ]
  },
  {
   "cell_type": "code",
   "execution_count": 46,
   "id": "roman-employer",
   "metadata": {},
   "outputs": [],
   "source": [
    "#customer_data is a dictionary that contains the details of the customer\n",
    "#In data_json mobile number is added as the key and customer_data is used as the value\n",
    "#data_json is the JSON Object\n",
    "\n",
    "customer_data = [  dict([ (colname, row[i])  for i,colname in enumerate(df5.columns)  ]) for row in df5.values ]\n",
    "data_json = dict()\n",
    "for rows in customer_data:\n",
    "    key = str(rows['mobile_number'])\n",
    "    data_json[key] = rows\n",
    "    \n",
    "#data_json_arr is the JSON Array of the JSON Object\n",
    "    \n",
    "data_json_arr = dict()\n",
    "data_json_arr[\"Customer Data\"] = data_json"
   ]
  },
  {
   "cell_type": "code",
   "execution_count": 43,
   "id": "traditional-reasoning",
   "metadata": {},
   "outputs": [],
   "source": [
    "#The JSON data is written into a file data.txt\n",
    "\n",
    "with open('data.txt', 'w') as outfile:\n",
    "    json.dump(data_json_arr, outfile)"
   ]
  }
 ],
 "metadata": {
  "kernelspec": {
   "display_name": "Python 3",
   "language": "python",
   "name": "python3"
  },
  "language_info": {
   "codemirror_mode": {
    "name": "ipython",
    "version": 3
   },
   "file_extension": ".py",
   "mimetype": "text/x-python",
   "name": "python",
   "nbconvert_exporter": "python",
   "pygments_lexer": "ipython3",
   "version": "3.9.0"
  }
 },
 "nbformat": 4,
 "nbformat_minor": 5
}
