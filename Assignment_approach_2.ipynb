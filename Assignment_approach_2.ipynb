{
 "cells": [
  {
   "cell_type": "code",
   "execution_count": null,
   "id": "structured-participation",
   "metadata": {},
   "outputs": [],
   "source": [
    "import pandas as pd\n",
    "import numpy as np\n",
    "import json"
   ]
  },
  {
   "cell_type": "code",
   "execution_count": null,
   "id": "employed-broadcast",
   "metadata": {},
   "outputs": [],
   "source": [
    "#df1 is the dataframe of customer_data_one.csv and df2 is the dataframe of the customer_data_two.csv\n",
    "\n",
    "df1 = pd.read_csv(\"customer_data_one.csv\")\n",
    "df2 = pd.read_csv(\"customer_data_two.csv\")"
   ]
  },
  {
   "cell_type": "code",
   "execution_count": null,
   "id": "centered-addiction",
   "metadata": {},
   "outputs": [],
   "source": [
    "#df5 is the data frame in which outdated values of customer is removed\n",
    "#append is first used to club the two data frames(ie two csv file's records)\n",
    "#drop_duplicates is used to remove the outdated rows or records\n",
    "#sort_values is used to sort the data frame based in the first name\n",
    "\n",
    "\n",
    "df5 = df1.append(df2, ignore_index = True).drop_duplicates(subset = \"mobile_number\", keep = \"last\", inplace = False)\n",
    "df5 = df5.sort_values(by=['first_name'])"
   ]
  },
  {
   "cell_type": "code",
   "execution_count": null,
   "id": "bored-freeze",
   "metadata": {},
   "outputs": [],
   "source": [
    "#customer_data is the JSON Object\n",
    "\n",
    "customer_data = dict()\n",
    "for row in df5.values:\n",
    "    customer_data[row[8]] = row "
   ]
  },
  {
   "cell_type": "code",
   "execution_count": null,
   "id": "existing-vietnam",
   "metadata": {},
   "outputs": [],
   "source": [
    "#data_json_arr is the JSON Array of the JSON Object\n",
    "    \n",
    "data_json_arr = dict()\n",
    "data_json_arr[\"Customer Data\"] = customer_data"
   ]
  },
  {
   "cell_type": "code",
   "execution_count": null,
   "id": "interim-proof",
   "metadata": {},
   "outputs": [],
   "source": [
    "#The JSON data is written into a file data.txt\n",
    "\n",
    "with open('data1.txt', 'w') as outfile:\n",
    "    json.dump(data_json_arr, outfile)"
   ]
  }
 ],
 "metadata": {
  "kernelspec": {
   "display_name": "Python 3",
   "language": "python",
   "name": "python3"
  },
  "language_info": {
   "codemirror_mode": {
    "name": "ipython",
    "version": 3
   },
   "file_extension": ".py",
   "mimetype": "text/x-python",
   "name": "python",
   "nbconvert_exporter": "python",
   "pygments_lexer": "ipython3",
   "version": "3.9.0"
  }
 },
 "nbformat": 4,
 "nbformat_minor": 5
}
